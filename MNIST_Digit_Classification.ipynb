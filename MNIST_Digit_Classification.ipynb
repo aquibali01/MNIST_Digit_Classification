{
  "nbformat": 4,
  "nbformat_minor": 0,
  "metadata": {
    "colab": {
      "name": "MNIST_Digit_Classification",
      "version": "0.3.2",
      "provenance": []
    },
    "kernelspec": {
      "name": "python3",
      "display_name": "Python 3"
    }
  },
  "cells": [
    {
      "cell_type": "markdown",
      "metadata": {
        "id": "aX8ZfiLk6zCp",
        "colab_type": "text"
      },
      "source": [
        "#Loading MNIST Dataset"
      ]
    },
    {
      "cell_type": "code",
      "metadata": {
        "id": "O0Xd9dWq5nul",
        "colab_type": "code",
        "colab": {}
      },
      "source": [
        "from keras.datasets import mnist\n",
        "(train_images, train_labels), (test_images, test_labels) = mnist.load_data()"
      ],
      "execution_count": 0,
      "outputs": []
    },
    {
      "cell_type": "code",
      "metadata": {
        "id": "e_nyc-5n55uM",
        "colab_type": "code",
        "outputId": "47cfcbaf-9bd6-4932-d4e7-13d30849467e",
        "colab": {
          "base_uri": "https://localhost:8080/",
          "height": 34
        }
      },
      "source": [
        "train_images.shape"
      ],
      "execution_count": 0,
      "outputs": [
        {
          "output_type": "execute_result",
          "data": {
            "text/plain": [
              "(60000, 28, 28)"
            ]
          },
          "metadata": {
            "tags": []
          },
          "execution_count": 13
        }
      ]
    },
    {
      "cell_type": "code",
      "metadata": {
        "id": "QZGWr1q36EhE",
        "colab_type": "code",
        "outputId": "4d698c0e-a417-4cbc-99b9-23c4f7825a7f",
        "colab": {
          "base_uri": "https://localhost:8080/",
          "height": 34
        }
      },
      "source": [
        "test_images.shape"
      ],
      "execution_count": 0,
      "outputs": [
        {
          "output_type": "execute_result",
          "data": {
            "text/plain": [
              "(10000, 28, 28)"
            ]
          },
          "metadata": {
            "tags": []
          },
          "execution_count": 14
        }
      ]
    },
    {
      "cell_type": "code",
      "metadata": {
        "id": "F4FybYf06HyK",
        "colab_type": "code",
        "outputId": "164555e0-62d3-4cee-bffc-ff9f5e4748d8",
        "colab": {
          "base_uri": "https://localhost:8080/",
          "height": 34
        }
      },
      "source": [
        "train_labels"
      ],
      "execution_count": 0,
      "outputs": [
        {
          "output_type": "execute_result",
          "data": {
            "text/plain": [
              "array([5, 0, 4, ..., 5, 6, 8], dtype=uint8)"
            ]
          },
          "metadata": {
            "tags": []
          },
          "execution_count": 15
        }
      ]
    },
    {
      "cell_type": "markdown",
      "metadata": {
        "id": "-jBa_hgJ6-kh",
        "colab_type": "text"
      },
      "source": [
        "#Building the model"
      ]
    },
    {
      "cell_type": "code",
      "metadata": {
        "id": "Uv6kqirA6LW5",
        "colab_type": "code",
        "colab": {}
      },
      "source": [
        "from keras import models\n",
        "from keras import layers\n",
        "network = models.Sequential()\n",
        "network.add(layers.Dense(512, activation='relu', input_shape=(28 * 28,)))\n",
        "network.add(layers.Dense(10, activation='softmax'))"
      ],
      "execution_count": 0,
      "outputs": []
    },
    {
      "cell_type": "markdown",
      "metadata": {
        "id": "Dlx28HgO7MQq",
        "colab_type": "text"
      },
      "source": [
        "#Compiling the model"
      ]
    },
    {
      "cell_type": "code",
      "metadata": {
        "id": "J_uThMxp6a5L",
        "colab_type": "code",
        "colab": {}
      },
      "source": [
        "network.compile(optimizer='rmsprop',\n",
        "loss='categorical_crossentropy',\n",
        "metrics=['accuracy'])"
      ],
      "execution_count": 0,
      "outputs": []
    },
    {
      "cell_type": "markdown",
      "metadata": {
        "id": "qBnSsz7C7ctT",
        "colab_type": "text"
      },
      "source": [
        "#Preprocessing image data"
      ]
    },
    {
      "cell_type": "code",
      "metadata": {
        "id": "XVuXO5-U7RRC",
        "colab_type": "code",
        "colab": {}
      },
      "source": [
        "train_images = train_images.reshape((60000, 28 * 28))\n",
        "train_images = train_images.astype('float32') / 255\n",
        "test_images = test_images.reshape((10000, 28 * 28))\n",
        "test_images = test_images.astype('float32') / 255\n"
      ],
      "execution_count": 0,
      "outputs": []
    },
    {
      "cell_type": "markdown",
      "metadata": {
        "id": "aDvcY_Y67qRP",
        "colab_type": "text"
      },
      "source": [
        "#preparing labels"
      ]
    },
    {
      "cell_type": "code",
      "metadata": {
        "id": "lQ3M5M5e7bo0",
        "colab_type": "code",
        "colab": {}
      },
      "source": [
        "from keras.utils import to_categorical\n",
        "train_labels = to_categorical(train_labels)\n",
        "test_labels = to_categorical(test_labels)"
      ],
      "execution_count": 0,
      "outputs": []
    },
    {
      "cell_type": "markdown",
      "metadata": {
        "id": "ifhetqtt76zq",
        "colab_type": "text"
      },
      "source": [
        "#Training The model"
      ]
    },
    {
      "cell_type": "code",
      "metadata": {
        "id": "VjOPt4bp7pby",
        "colab_type": "code",
        "outputId": "71f573ca-9161-454d-c76d-98abca58f447",
        "colab": {
          "base_uri": "https://localhost:8080/",
          "height": 204
        }
      },
      "source": [
        "network.fit(train_images, train_labels, epochs=5, batch_size=128)"
      ],
      "execution_count": 0,
      "outputs": [
        {
          "output_type": "stream",
          "text": [
            "Epoch 1/5\n",
            "60000/60000 [==============================] - 5s 77us/step - loss: 0.2583 - acc: 0.9253\n",
            "Epoch 2/5\n",
            "60000/60000 [==============================] - 5s 76us/step - loss: 0.1033 - acc: 0.9695\n",
            "Epoch 3/5\n",
            "60000/60000 [==============================] - 5s 76us/step - loss: 0.0687 - acc: 0.9793\n",
            "Epoch 4/5\n",
            "60000/60000 [==============================] - 5s 75us/step - loss: 0.0501 - acc: 0.9850\n",
            "Epoch 5/5\n",
            "60000/60000 [==============================] - 5s 75us/step - loss: 0.0371 - acc: 0.9886\n"
          ],
          "name": "stdout"
        },
        {
          "output_type": "execute_result",
          "data": {
            "text/plain": [
              "<keras.callbacks.History at 0x7f7bb8fbba90>"
            ]
          },
          "metadata": {
            "tags": []
          },
          "execution_count": 20
        }
      ]
    },
    {
      "cell_type": "code",
      "metadata": {
        "id": "_VdKERyL74Y4",
        "colab_type": "code",
        "outputId": "f46775b9-b026-470d-97a1-3c1a58b8fd02",
        "colab": {
          "base_uri": "https://localhost:8080/",
          "height": 51
        }
      },
      "source": [
        "test_loss, test_acc = network.evaluate(test_images, test_labels)\n",
        "print('test_acc:', test_acc)"
      ],
      "execution_count": 0,
      "outputs": [
        {
          "output_type": "stream",
          "text": [
            "10000/10000 [==============================] - 1s 53us/step\n",
            "test_acc: 0.981\n"
          ],
          "name": "stdout"
        }
      ]
    },
    {
      "cell_type": "code",
      "metadata": {
        "id": "EPsjrUZs8IEC",
        "colab_type": "code",
        "colab": {}
      },
      "source": [
        ""
      ],
      "execution_count": 0,
      "outputs": []
    },
    {
      "cell_type": "markdown",
      "metadata": {
        "id": "sEBcVteb9lhR",
        "colab_type": "text"
      },
      "source": [
        "#Further Experiments"
      ]
    },
    {
      "cell_type": "code",
      "metadata": {
        "id": "cI8R1mbG9sNP",
        "colab_type": "code",
        "outputId": "c6e34e3a-0cd9-40b8-bc30-b508909fe0c5",
        "colab": {
          "base_uri": "https://localhost:8080/",
          "height": 221
        }
      },
      "source": [
        "from keras import models\n",
        "from keras import layers\n",
        "network = models.Sequential()\n",
        "network.add(layers.Dense(512, activation='relu', input_shape=(28 * 28,)))\n",
        "network.add(layers.Dense(512, activation='relu'))\n",
        "network.add(layers.Dense(10, activation='softmax'))\n",
        "network.compile(optimizer='rmsprop',\n",
        "loss='categorical_crossentropy',\n",
        "metrics=['accuracy'])\n",
        "network.fit(train_images, train_labels, epochs=5, batch_size=128)\n",
        "test_loss, test_acc = network.evaluate(test_images, test_labels)\n",
        "print('test_acc:', test_acc)"
      ],
      "execution_count": 0,
      "outputs": [
        {
          "output_type": "stream",
          "text": [
            "Epoch 1/5\n",
            "60000/60000 [==============================] - 8s 130us/step - loss: 0.2177 - acc: 0.9333\n",
            "Epoch 2/5\n",
            "60000/60000 [==============================] - 8s 125us/step - loss: 0.0811 - acc: 0.9752\n",
            "Epoch 3/5\n",
            "60000/60000 [==============================] - 7s 124us/step - loss: 0.0527 - acc: 0.9833\n",
            "Epoch 4/5\n",
            "60000/60000 [==============================] - 7s 124us/step - loss: 0.0382 - acc: 0.9886\n",
            "Epoch 5/5\n",
            "60000/60000 [==============================] - 8s 126us/step - loss: 0.0300 - acc: 0.9907\n",
            "10000/10000 [==============================] - 1s 72us/step\n",
            "test_acc: 0.9805\n"
          ],
          "name": "stdout"
        }
      ]
    },
    {
      "cell_type": "code",
      "metadata": {
        "id": "gYJ7HD-j-HpD",
        "colab_type": "code",
        "outputId": "948210a1-1b6e-49b3-9e76-540b3dac30b8",
        "colab": {
          "base_uri": "https://localhost:8080/",
          "height": 221
        }
      },
      "source": [
        "from keras import models\n",
        "from keras import layers\n",
        "network = models.Sequential()\n",
        "network.add(layers.Dense(784, activation='relu', input_shape=(28 * 28,)))\n",
        "network.add(layers.Dense(784, activation='relu'))\n",
        "network.add(layers.Dense(10, activation='softmax'))\n",
        "network.compile(optimizer='rmsprop',\n",
        "loss='categorical_crossentropy',\n",
        "metrics=['accuracy'])\n",
        "network.fit(train_images, train_labels, epochs=5, batch_size=128)\n",
        "test_loss, test_acc = network.evaluate(test_images, test_labels)\n",
        "print('test_acc:', test_acc)"
      ],
      "execution_count": 0,
      "outputs": [
        {
          "output_type": "stream",
          "text": [
            "Epoch 1/5\n",
            "60000/60000 [==============================] - 14s 233us/step - loss: 0.2084 - acc: 0.9358\n",
            "Epoch 2/5\n",
            "60000/60000 [==============================] - 14s 225us/step - loss: 0.0783 - acc: 0.9759\n",
            "Epoch 3/5\n",
            "60000/60000 [==============================] - 14s 230us/step - loss: 0.0519 - acc: 0.9846\n",
            "Epoch 4/5\n",
            "60000/60000 [==============================] - 14s 227us/step - loss: 0.0371 - acc: 0.9888\n",
            "Epoch 5/5\n",
            "60000/60000 [==============================] - 14s 232us/step - loss: 0.0298 - acc: 0.9912\n",
            "10000/10000 [==============================] - 1s 101us/step\n",
            "test_acc: 0.9819\n"
          ],
          "name": "stdout"
        }
      ]
    },
    {
      "cell_type": "code",
      "metadata": {
        "id": "SxwFNwLA-8lY",
        "colab_type": "code",
        "colab": {}
      },
      "source": [
        ""
      ],
      "execution_count": 0,
      "outputs": []
    }
  ]
}